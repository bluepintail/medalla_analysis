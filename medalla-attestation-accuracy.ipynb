{
 "cells": [
  {
   "cell_type": "code",
   "execution_count": 1,
   "metadata": {},
   "outputs": [],
   "source": [
    "# imports\n",
    "import time\n",
    "\n",
    "import psycopg2\n",
    "import matplotlib.pyplot as plt\n",
    "from matplotlib.ticker import PercentFormatter\n",
    "import pandas as pd\n",
    "from IPython.display import display, clear_output"
   ]
  },
  {
   "cell_type": "code",
   "execution_count": 2,
   "metadata": {},
   "outputs": [],
   "source": [
    "# open/restart connection to chaind database\n",
    "try:\n",
    "    cursor.close()\n",
    "    connection.close()\n",
    "except:\n",
    "    pass\n",
    "\n",
    "connection = psycopg2.connect(user=\"chain\", host=\"127.0.0.1\", database=\"chain\", password=\"medalla\")\n",
    "cursor = connection.cursor()"
   ]
  },
  {
   "cell_type": "code",
   "execution_count": 3,
   "metadata": {},
   "outputs": [],
   "source": [
    "# get info about dataset and validators\n",
    "\n",
    "cursor.execute(\"SELECT MAX(f_slot) FROM t_blocks\")\n",
    "latest_slot = cursor.fetchone()[0]\n",
    "n_slots = latest_slot + 1\n",
    "n_epochs = (n_slots - (n_slots % 32)) // 32\n",
    "\n",
    "cursor.execute(\"SELECT f_activation_eligibility_epoch, f_activation_epoch, f_exit_epoch, f_slashed, \"\n",
    "               \"f_first_attested_epoch, f_latest_attested_epoch FROM t_validators ORDER BY f_index\")\n",
    "result = cursor.fetchall()\n",
    "validators = [{\"activation_eligibility_epoch\": r[0],\n",
    "               \"activation_epoch\"            : r[1],\n",
    "               \"exit_epoch\"                  : r[2],\n",
    "               \"slashed\"                     : r[3],\n",
    "               \"first_attestation\"           : r[4],\n",
    "               \"latest_attestation\"          : r[5]} for r in result]"
   ]
  },
  {
   "cell_type": "code",
   "execution_count": 4,
   "metadata": {},
   "outputs": [
    {
     "name": "stdout",
     "output_type": "stream",
     "text": [
      "slot total correct incorrect missed\n",
      "  0   627    332       0      295\n",
      "  1   628    339      54      235\n",
      "  2   627    394      13      220\n",
      "  3   628    347      57      224\n",
      "  4   628    348      46      234\n",
      "  5   627    342      33      252\n",
      "  6   628    342      44      242\n",
      "  7   628    337      52      239\n",
      "  8   627    341      46      240\n",
      "  9   628    327      62      239\n"
     ]
    }
   ],
   "source": [
    "print(\"slot total correct incorrect missed\")\n",
    "for slot in range(10):\n",
    "    cursor.execute(f\"SELECT f_correct FROM t_validator_performance WHERE f_slot = {slot}\")\n",
    "    correct = cursor.fetchone()[0]\n",
    "    n_total     = len(correct)\n",
    "    n_correct   = sum([c ==  1 for c in correct])\n",
    "    n_incorrect = sum([c == -1 for c in correct])\n",
    "    n_missed    = sum([c ==  0 for c in correct])\n",
    "    print(f\"{slot}\".rjust(3,' '), f\"{n_total}\".rjust(5,' '), f\"{n_correct}\".rjust(6,' '),\n",
    "          f\"{n_incorrect}\".rjust(7,' '), f\"{n_missed}\".rjust(8,' '))"
   ]
  },
  {
   "cell_type": "code",
   "execution_count": 16,
   "metadata": {},
   "outputs": [
    {
     "name": "stdout",
     "output_type": "stream",
     "text": [
      "1 4f042e61cbf74a5064584f761951679c92844d8b314c97a37a516fba651cda16\n"
     ]
    }
   ],
   "source": [
    "cursor.execute(f\"SELECT f_slot, f_root FROM t_blocks WHERE f_slot <= {att_slot} AND f_canonical \n",
    "               f\"ORDER BY f_slot DESC LIMIT 1\")\n",
    "result = cursor.fetchone()\n",
    "slot, root = result[0], result[1].hex()\n",
    "print(slot, root)"
   ]
  },
  {
   "cell_type": "code",
   "execution_count": 17,
   "metadata": {},
   "outputs": [
    {
     "data": {
      "text/plain": [
       "(9,)"
      ]
     },
     "execution_count": 17,
     "metadata": {},
     "output_type": "execute_result"
    }
   ],
   "source": [
    "cursor.execute(f\"SELECT SUM(f_canonical::int) FROM t_blocks WHERE f_slot < 10\")\n",
    "cursor.fetchone()"
   ]
  }
 ],
 "metadata": {
  "kernelspec": {
   "display_name": "Python 3",
   "language": "python",
   "name": "python3"
  },
  "language_info": {
   "codemirror_mode": {
    "name": "ipython",
    "version": 3
   },
   "file_extension": ".py",
   "mimetype": "text/x-python",
   "name": "python",
   "nbconvert_exporter": "python",
   "pygments_lexer": "ipython3",
   "version": "3.8.5"
  },
  "varInspector": {
   "cols": {
    "lenName": 16,
    "lenType": 16,
    "lenVar": 40
   },
   "kernels_config": {
    "python": {
     "delete_cmd_postfix": "",
     "delete_cmd_prefix": "del ",
     "library": "var_list.py",
     "varRefreshCmd": "print(var_dic_list())"
    },
    "r": {
     "delete_cmd_postfix": ") ",
     "delete_cmd_prefix": "rm(",
     "library": "var_list.r",
     "varRefreshCmd": "cat(var_dic_list()) "
    }
   },
   "types_to_exclude": [
    "module",
    "function",
    "builtin_function_or_method",
    "instance",
    "_Feature"
   ],
   "window_display": false
  }
 },
 "nbformat": 4,
 "nbformat_minor": 4
}
